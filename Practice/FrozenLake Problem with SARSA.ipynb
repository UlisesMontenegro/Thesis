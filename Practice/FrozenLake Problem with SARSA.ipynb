{
 "cells": [
  {
   "cell_type": "code",
   "execution_count": null,
   "metadata": {},
   "outputs": [],
   "source": [
    "import gym\n",
    "import numpy as np\n",
    "import time, pickle, os"
   ]
  },
  {
   "cell_type": "code",
   "execution_count": null,
   "metadata": {},
   "outputs": [],
   "source": [
    "# Creating the environment\n",
    "env = gym.make(\"FrozenLake-v1\", render_mode = \"human\")"
   ]
  },
  {
   "cell_type": "code",
   "execution_count": null,
   "metadata": {},
   "outputs": [],
   "source": [
    "# Defining rates & factors\n",
    "epsilon = 0.9 # Epsilon greedy factor\n",
    "minEpsilon = 0.1\n",
    "maxEpsilon = 1\n",
    "epsilonDecayRate = .05\n",
    "\n",
    "totalEpisodes = 10000\n",
    "maxSteps = 100\n",
    "\n",
    "lr = 0.81 # Learning rate\n",
    "gamma = 0.96 # Discount factor"
   ]
  },
  {
   "cell_type": "code",
   "execution_count": null,
   "metadata": {},
   "outputs": [],
   "source": [
    "# Initializing Q-Table\n",
    "qTable = np.zeros((env.observation_space.n, env.action_space.n)) # Q(s,a)"
   ]
  },
  {
   "cell_type": "code",
   "execution_count": null,
   "metadata": {},
   "outputs": [],
   "source": [
    "# Defining what action to take given a state based on Epsilon-Greedy (Policy?)\n",
    "def chooseAction(state):\n",
    "    action = 0\n",
    "    if np.random.uniform(0,1) < epsilon:\n",
    "        action = env.action_space.sample()\n",
    "    else:\n",
    "        action = np.argmax(qTable[state, :])\n",
    "    return action"
   ]
  },
  {
   "cell_type": "code",
   "execution_count": null,
   "metadata": {},
   "outputs": [],
   "source": [
    "# Defining learning step based on SARSA\n",
    "def learn(state, action, reward, state2, action2):\n",
    "    predicted = qTable[state, action]\n",
    "    target = reward + gamma * qTable[state2, action2]\n",
    "    qTable[state, action] = qTable[state, action] + lr * target - predicted"
   ]
  },
  {
   "cell_type": "code",
   "execution_count": null,
   "metadata": {},
   "outputs": [],
   "source": [
    "# Start\n",
    "rewards = 0\n",
    "\n",
    "for episode in range(totalEpisodes):\n",
    "\n",
    "    print(\"Episode: \", str(episode))\n",
    "    print(\"Epsilon: \" + str(epsilon))\n",
    "    print(\"Rewards: \" + str(rewards))\n",
    "    print(qTable)\n",
    "    \n",
    "    t = 0\n",
    "    state = env.reset()[0]\n",
    "    action = chooseAction(state)\n",
    "\n",
    "    while t < maxSteps:\n",
    "        env.render()\n",
    "\n",
    "        state2, reward, terminated, truncated, _ = env.step(action)\n",
    "        # print(\"Immediate Reward: \" + str(reward))\n",
    "        action2 = chooseAction(state2)\n",
    "        learn(state, action, reward, state2, action2)\n",
    "        state = state2\n",
    "        action = action2\n",
    "\n",
    "        t += 1\n",
    "        rewards += 1\n",
    "\n",
    "        if (terminated or truncated):\n",
    "            break\n",
    "\n",
    "        time.sleep(0.1)\n",
    "\n",
    "    epsilon = minEpsilon + (maxEpsilon - minEpsilon) * np.exp(-epsilonDecayRate * episode)\n",
    "    os.system('clear')\n",
    "\n",
    "print(\"Score over time: \", rewards/totalEpisodes)\n",
    "print(qTable)\n",
    "\n",
    "with open(\"frozenLake_qTable_sarsa.pk1\", 'wb') as f:\n",
    "    pickle.dump(qTable, f)"
   ]
  },
  {
   "cell_type": "code",
   "execution_count": null,
   "metadata": {},
   "outputs": [],
   "source": []
  }
 ],
 "metadata": {
  "kernelspec": {
   "display_name": "Python 3",
   "language": "python",
   "name": "python3"
  },
  "language_info": {
   "codemirror_mode": {
    "name": "ipython",
    "version": 3
   },
   "file_extension": ".py",
   "mimetype": "text/x-python",
   "name": "python",
   "nbconvert_exporter": "python",
   "pygments_lexer": "ipython3",
   "version": "3.10.6"
  }
 },
 "nbformat": 4,
 "nbformat_minor": 2
}
