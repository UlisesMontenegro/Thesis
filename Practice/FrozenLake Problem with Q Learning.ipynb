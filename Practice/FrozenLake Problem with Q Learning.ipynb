{
 "cells": [
  {
   "cell_type": "code",
   "execution_count": 7,
   "metadata": {},
   "outputs": [],
   "source": [
    "import gym\n",
    "import numpy as np\n",
    "import matplotlib.pyplot as plt\n",
    "import time, pickle, os"
   ]
  },
  {
   "cell_type": "code",
   "execution_count": 8,
   "metadata": {},
   "outputs": [
    {
     "data": {
      "text/plain": [
       "'\\n# Defining rates & factors\\nepsilon = .9 # Epsilon greedy factor\\nminEpsilon = .1\\nmaxEpsilon = 1\\nepsilonDecayRate = .0001\\n\\ntotalEpisodes = 10000\\nmaxSteps = 100\\n\\nlr = .81 # Learning rate\\ngamma = .96 # Discount factor\\n'"
      ]
     },
     "execution_count": 8,
     "metadata": {},
     "output_type": "execute_result"
    }
   ],
   "source": [
    "'''\n",
    "# Defining rates & factors\n",
    "epsilon = .9 # Epsilon greedy factor\n",
    "minEpsilon = .1\n",
    "maxEpsilon = 1\n",
    "epsilonDecayRate = .0001\n",
    "\n",
    "totalEpisodes = 10000\n",
    "maxSteps = 100\n",
    "\n",
    "lr = .81 # Learning rate\n",
    "gamma = .96 # Discount factor\n",
    "'''"
   ]
  },
  {
   "cell_type": "code",
   "execution_count": 9,
   "metadata": {},
   "outputs": [],
   "source": [
    "def chooseAction(state, qTable, isTraining, env, epsilon):\n",
    "    action = 0\n",
    "    if isTraining and np.random.uniform(0,1) < epsilon:\n",
    "        action = env.action_space.sample()\n",
    "    else:\n",
    "        action = np.argmax(qTable[state, :])\n",
    "    return action"
   ]
  },
  {
   "cell_type": "code",
   "execution_count": 10,
   "metadata": {},
   "outputs": [],
   "source": [
    "def updateQTable(state, action, newState, reward, qTable, lr, gamma):\n",
    "    currentQ = qTable[state, action]\n",
    "    newMaxQ = np.max(qTable[newState, :])\n",
    "    #newMaxQ = np.argmax(qTable[newState, :])\n",
    "    qTable[state, action] = currentQ + lr*(reward + gamma*newMaxQ - currentQ)\n",
    "    return qTable"
   ]
  },
  {
   "cell_type": "code",
   "execution_count": 11,
   "metadata": {},
   "outputs": [],
   "source": [
    "def runQLearning(totalEpisodes, isTraining = True, render = False):\n",
    "    \n",
    "    # Creating the environment\n",
    "    env = gym.make(\"FrozenLake-v1\", is_slippery = False, render_mode = 'human' if render else None)\n",
    "    \n",
    "    # Initialize Q-Table\n",
    "    if isTraining:\n",
    "        qTable = np.random.uniform(low = 0, high = 1, size = (env.observation_space.n, env.action_space.n)) # Q(s,a) initialized randomly\n",
    "        #qTable = np.zeros((env.observation_space.n, env.action_space.n)) # Q(s,a) initialized with zeros\n",
    "    else:\n",
    "        # Load trained model Q-Table\n",
    "        f = open('frozenLake_qTable_Q_Learning.pk1', 'rb')\n",
    "        qTable = pickle.load(f)\n",
    "        f.close()\n",
    "\n",
    "    # Defining rates & factors\n",
    "    epsilon = 1 # Epsilon greedy factor\n",
    "    #minEpsilon = .1\n",
    "    #maxEpsilon = 1\n",
    "    epsilonDecayRate = .0001\n",
    "    lr = .9 # Learning rate\n",
    "    gamma = .9 # Discount factor\n",
    "\n",
    "    rewards = np.zeros(totalEpisodes)\n",
    "\n",
    "    # Start\n",
    "\n",
    "    for episode in range(totalEpisodes):\n",
    "\n",
    "        if isTraining:\n",
    "            print(\"Episode: \" + str(episode))\n",
    "        else:\n",
    "            print(\"Starting attempt...\")\n",
    "        \n",
    "        terminated = False\n",
    "        truncated = False\n",
    "\n",
    "        state = env.reset()[0]\n",
    "        \n",
    "        while (not terminated and not truncated):\n",
    "\n",
    "            action = chooseAction(state, qTable, isTraining, env, epsilon)\n",
    "            \n",
    "            newState, reward, terminated, truncated, _ = env.step(action)\n",
    "\n",
    "            if isTraining:\n",
    "                updateQTable(state, action, newState, reward, qTable, lr, gamma)\n",
    "\n",
    "            state = newState\n",
    "\n",
    "        #epsilon = minEpsilon + (maxEpsilon - minEpsilon) * np.exp(-epsilonDecayRate * episode)\n",
    "        epsilon = max(epsilon - epsilonDecayRate, 0)\n",
    "\n",
    "        # Stabilizing Q-Table when exploration has finished\n",
    "        if(epsilon == 0):\n",
    "            lr = .0001\n",
    "     \n",
    "        if reward == 1:\n",
    "            rewards[episode] = 1\n",
    "   \n",
    "    env.close()\n",
    "\n",
    "    if isTraining:\n",
    "        print(\"Training completed. Environment closed\")\n",
    "    else:\n",
    "        print(\"Attempt finished\")\n",
    "\n",
    "    # Rewards graphic\n",
    "    sumRewards = np.zeros(totalEpisodes)\n",
    "    for i in range(totalEpisodes):\n",
    "        sumRewards[i] = np.sum(rewards[max(0, i-100):(i+1)]) #Rewards every 100 episodes\n",
    "    if isTraining:\n",
    "        plt.plot(sumRewards)\n",
    "        plt.savefig(\"frozenLake_rewards.png\")\n",
    "\n",
    "    #print(qTable)\n",
    "\n",
    "    # Saving the Q-Table after the training\n",
    "    if isTraining:\n",
    "        with open(\"frozenLake_qTable_Q_Learning.pk1\", 'wb') as f:\n",
    "            pickle.dump(qTable, f)"
   ]
  },
  {
   "cell_type": "code",
   "execution_count": 12,
   "metadata": {},
   "outputs": [
    {
     "name": "stdout",
     "output_type": "stream",
     "text": [
      "Starting attempt...\n"
     ]
    },
    {
     "name": "stderr",
     "output_type": "stream",
     "text": [
      "c:\\Users\\Windows\\AppData\\Local\\Programs\\Python\\Python310\\lib\\site-packages\\gym\\utils\\passive_env_checker.py:233: DeprecationWarning: `np.bool8` is a deprecated alias for `np.bool_`.  (Deprecated NumPy 1.24)\n",
      "  if not isinstance(terminated, (bool, np.bool8)):\n"
     ]
    },
    {
     "name": "stdout",
     "output_type": "stream",
     "text": [
      "Attempt finished\n"
     ]
    }
   ],
   "source": [
    "\n",
    "if __name__ == '__main__':\n",
    "    runQLearning(15000)\n",
    "    #runQLearning(1, isTraining=False, render=True)\n"
   ]
  },
  {
   "cell_type": "code",
   "execution_count": null,
   "metadata": {},
   "outputs": [],
   "source": []
  }
 ],
 "metadata": {
  "kernelspec": {
   "display_name": "Python 3",
   "language": "python",
   "name": "python3"
  },
  "language_info": {
   "codemirror_mode": {
    "name": "ipython",
    "version": 3
   },
   "file_extension": ".py",
   "mimetype": "text/x-python",
   "name": "python",
   "nbconvert_exporter": "python",
   "pygments_lexer": "ipython3",
   "version": "3.10.6"
  }
 },
 "nbformat": 4,
 "nbformat_minor": 2
}
