{
 "cells": [
  {
   "cell_type": "code",
   "execution_count": null,
   "metadata": {},
   "outputs": [],
   "source": [
    "import gym\n",
    "import numpy as np\n",
    "import matplotlib.pyplot as plt\n",
    "import time, pickle, os"
   ]
  },
  {
   "cell_type": "code",
   "execution_count": null,
   "metadata": {},
   "outputs": [],
   "source": [
    "# Defining rates & factors\n",
    "epsilon = .9 # Epsilon greedy factor\n",
    "minEpsilon = .1\n",
    "maxEpsilon = 1\n",
    "epsilonDecayRate = .05\n",
    "\n",
    "totalEpisodes = 10000\n",
    "maxSteps = 100\n",
    "\n",
    "lr = .81 # Learning rate\n",
    "gamma = .96 # Discount factor"
   ]
  },
  {
   "cell_type": "code",
   "execution_count": null,
   "metadata": {},
   "outputs": [],
   "source": [
    "def chooseAction(state, qTable, isTraining, env):\n",
    "    action = 0\n",
    "    if isTraining and np.random.uniform(0,1) < epsilon:\n",
    "        action = env.action_space.sample()\n",
    "    else:\n",
    "        action = np.argmax(qTable[state, :])\n",
    "    return action"
   ]
  },
  {
   "cell_type": "code",
   "execution_count": null,
   "metadata": {},
   "outputs": [],
   "source": [
    "def updateQTable(state, action, newState, reward, qTable):\n",
    "    currentQ = qTable[state, action]\n",
    "    newMaxQ = np.max(qTable[newState, :])\n",
    "    #newMaxQ = np.argmax(qTable[newState, :])\n",
    "    qTable[state, action] = qTable[state, action] + lr*(reward + gamma*newMaxQ - currentQ)"
   ]
  },
  {
   "cell_type": "code",
   "execution_count": null,
   "metadata": {},
   "outputs": [],
   "source": [
    "def runQLearning(totalEpisodes, isTraining = True, render = False):\n",
    "\n",
    "    # Creating the environment\n",
    "    env = gym.make(\"FrozenLake-v1\", is_slippery = True, render_mode = 'human' if render else None)\n",
    "    \n",
    "    # Initialize Q-Table\n",
    "    if isTraining:\n",
    "        qTable = np.random.uniform(low = 0, high = 1, size = (env.observation_space.n, env.action_space.n)) # Q(s,a) initialized randomly\n",
    "        #qTable = np.zeros((env.observation_space.n, env.action_space.n)) # Q(s,a) initialized with zeros\n",
    "    else:\n",
    "        # Load trained model Q-Table\n",
    "        f = open('frozenLake_qTable_Q_Learning.pk1', 'rb')\n",
    "        q = pickle.load(f)\n",
    "        f.close()\n",
    "\n",
    "    # Start\n",
    "    rewards = np.zeros(totalEpisodes)\n",
    "\n",
    "    for episode in range(totalEpisodes):\n",
    "        \n",
    "        terminated = False\n",
    "        truncated = False\n",
    "\n",
    "        t = 0\n",
    "        state = env.reset()[0]\n",
    "        action = chooseAction(state, qTable, isTraining, env)\n",
    "\n",
    "        while t < maxSteps:\n",
    "            #env.render()\n",
    "\n",
    "            newState, reward, terminated, truncated, _ = env.step(action)\n",
    "\n",
    "            if isTraining:\n",
    "                updateQTable(state, action, newState, reward, qTable)\n",
    "\n",
    "            state = newState\n",
    "\n",
    "            t += 1\n",
    "            rewards += 1\n",
    "\n",
    "            if(terminated or truncated):\n",
    "                if(truncated):\n",
    "                    print(\"Truncated, starting new episode...\")\n",
    "                break\n",
    "\n",
    "            if reward == 1:\n",
    "                rewards[episode] = 1\n",
    "            #time.sleep(.1)\n",
    "\n",
    "        epsilon = minEpsilon + (maxEpsilon - minEpsilon) * np.exp(-epsilonDecayRate * episode)\n",
    "        #os.system('clear')\n",
    "\n",
    "        # Rewards graphic\n",
    "        sumRewards = np.zeros(totalEpisodes)\n",
    "        for i in range(totalEpisodes):\n",
    "            sumRewards[i] = np.sum(rewards[max(0, i-100):(i+1)]) #Rewards every 100 episodes\n",
    "            plt.plot(sumRewards)\n",
    "            plt.savefig(\"frozenLake_rewards.png\")\n",
    "\n",
    "    env.close()\n",
    "\n",
    "    print(\"Score over time: \", rewards/totalEpisodes)\n",
    "    print(qTable)\n",
    "\n",
    "    # Saving the Q-Table after the training\n",
    "    if isTraining:\n",
    "        with open(\"frozenLake_qTable_Q_Learning.pk1\", 'wb') as f:\n",
    "            pickle.dump(qTable, f)\n"
   ]
  },
  {
   "cell_type": "code",
   "execution_count": 25,
   "metadata": {},
   "outputs": [
    {
     "data": {
      "image/png": "[encoded data removed]",
      "text/plain": [
       "<Figure size 640x480 with 1 Axes>"
      ]
     },
     "metadata": {},
     "output_type": "display_data"
    }
   ],
   "source": [
    "if __name__ == '__main__':\n",
    "    runQLearning(15000, isTraining = True)"
   ]
  }
 ],
 "metadata": {
  "kernelspec": {
   "display_name": "Python 3",
   "language": "python",
   "name": "python3"
  },
  "language_info": {
   "codemirror_mode": {
    "name": "ipython",
    "version": 3
   },
   "file_extension": ".py",
   "mimetype": "text/x-python",
   "name": "python",
   "nbconvert_exporter": "python",
   "pygments_lexer": "ipython3",
   "version": "3.10.6"
  }
 },
 "nbformat": 4,
 "nbformat_minor": 2
}
