{
 "cells": [
  {
   "cell_type": "code",
   "execution_count": 206,
   "metadata": {},
   "outputs": [],
   "source": [
    "import gym\n",
    "import numpy as np\n",
    "import matplotlib.pyplot as plt\n",
    "import pickle"
   ]
  },
  {
   "cell_type": "code",
   "execution_count": 207,
   "metadata": {},
   "outputs": [],
   "source": [
    "def chooseAction(state, qTable, isTraining, env, epsilon):\n",
    "    action = 0\n",
    "    if isTraining and np.random.uniform(0,1) < epsilon:\n",
    "        action = env.action_space.sample()\n",
    "    else:\n",
    "        action = np.argmax(qTable[state, :])\n",
    "    return action"
   ]
  },
  {
   "cell_type": "code",
   "execution_count": 208,
   "metadata": {},
   "outputs": [],
   "source": [
    "def updateQTable(state, action, reward, newState, nextAction, qTable, lr, gamma):\n",
    "    currentQ = qTable[state, action]\n",
    "    nextQ = qTable[newState, nextAction]\n",
    "    qTable[state, action] = currentQ + lr*(reward + gamma*nextQ - currentQ)\n",
    "    return qTable"
   ]
  },
  {
   "cell_type": "code",
   "execution_count": 209,
   "metadata": {},
   "outputs": [],
   "source": [
    "def runQLearning(totalEpisodes, isTraining = True, render = False):\n",
    "\n",
    "    # Creating the environment\n",
    "    env = gym.make(\"FrozenLake-v1\", is_slippery = False, render_mode = 'human' if render else None)\n",
    "\n",
    "    # Initialize Q-Table\n",
    "    if isTraining:\n",
    "        #qTable = np.random.uniform(low = 0, high = 1, size = (env.observation_space.n, env.action_space.n)) # Q(s,a) initialized randomly\n",
    "        qTable = np.zeros((env.observation_space.n, env.action_space.n)) # Q(s,a) initialized with zeros\n",
    "    else:\n",
    "        # Load trained Q-Table\n",
    "        f = open('frozenLake_qTable_SARSA_v2', 'rb')\n",
    "        qTable = pickle.load(f)\n",
    "        f.close()\n",
    "    \n",
    "    # Defining rates & factors\n",
    "    epsilon = 1 # Epsilon greedy factor\n",
    "    epsilonDecayRate = .0001\n",
    "    lr = .9 # Learning rate\n",
    "    gamma = .9 # Discount factor\n",
    "\n",
    "    rewards = np.zeros(totalEpisodes)\n",
    "    stepsPerEpisode = np.zeros(totalEpisodes)\n",
    "\n",
    "    # Start\n",
    "    for episode in range(totalEpisodes):\n",
    "        \n",
    "        steps = 0\n",
    "        \n",
    "        if isTraining:\n",
    "            print(\"Episode: \" + str(episode))\n",
    "        else:\n",
    "            print(\"Starting attempt...\")\n",
    "        \n",
    "        terminated = False\n",
    "        truncated = False\n",
    "\n",
    "        state = env.reset()[0]\n",
    "        action = chooseAction(state, qTable, isTraining, env, epsilon)\n",
    "\n",
    "        while(not terminated and not truncated):\n",
    "            \n",
    "            newState, reward, terminated, truncated, _ = env.step(action)\n",
    "\n",
    "            nextAction = chooseAction(newState, qTable, isTraining, env, epsilon)\n",
    "\n",
    "            if isTraining:\n",
    "                updateQTable(state, action, reward, newState, nextAction, qTable, lr, gamma)\n",
    "\n",
    "            state = newState\n",
    "            action = nextAction\n",
    "\n",
    "            steps += 1\n",
    "\n",
    "        epsilon = max(epsilon - epsilonDecayRate, 0)\n",
    "\n",
    "        # Stabilizing Q-Table when exploration has finished\n",
    "        if(epsilon == 0):\n",
    "            lr = .0001\n",
    "        \n",
    "        if reward == 1:\n",
    "            rewards[episode] = 1\n",
    "\n",
    "        if episode % 500 == 0:\n",
    "            stepsPerEpisode[episode] = steps\n",
    "        \n",
    "    env.close()\n",
    "\n",
    "    if isTraining:\n",
    "        print(\"Training completed. Environment closed\")\n",
    "    else:\n",
    "        print(\"Attempt finished, total steps: \" + str(steps))\n",
    "    \n",
    "    # Graphics\n",
    "    sumRewards = np.zeros(totalEpisodes)\n",
    "    for i in range(totalEpisodes):\n",
    "        sumRewards[i] = np.sum(rewards[max(0, i-100):(i+1)]) #Rewards every 100 episodes\n",
    "    if isTraining:\n",
    "        figure, (ax1, ax2) = plt.subplots(1,2)\n",
    "        ax1.plot(sumRewards)\n",
    "        ax1.set_title(\"Sum of rewards\")\n",
    "        ax1.set_xlabel(\"Episodes\")\n",
    "        ax1.grid(True)\n",
    "        ax2.plot(stepsPerEpisode)\n",
    "        ax2.set_title(\"Steps per episode\")\n",
    "        ax2.set_xlabel(\"Episodes\")\n",
    "        ax2.grid(True)\n",
    "        plt.savefig(\"frozenLake_SARSA_v2_graphics.png\")\n",
    "    \n",
    "    # Saving Q-Table after the training\n",
    "    if isTraining:\n",
    "        with open(\"frozenLake_qTable_SARSA_v2\", 'wb') as f:\n",
    "            pickle.dump(qTable, f)"
   ]
  },
  {
   "cell_type": "code",
   "execution_count": 210,
   "metadata": {},
   "outputs": [
    {
     "name": "stdout",
     "output_type": "stream",
     "text": [
      "Starting attempt...\n",
      "Attempt finished, total steps: 6\n"
     ]
    }
   ],
   "source": [
    "if __name__ == '__main__':\n",
    "    #runQLearning(15000)\n",
    "    runQLearning(1, isTraining=False, render=True)"
   ]
  },
  {
   "cell_type": "code",
   "execution_count": null,
   "metadata": {},
   "outputs": [],
   "source": []
  }
 ],
 "metadata": {
  "kernelspec": {
   "display_name": "Python 3",
   "language": "python",
   "name": "python3"
  },
  "language_info": {
   "codemirror_mode": {
    "name": "ipython",
    "version": 3
   },
   "file_extension": ".py",
   "mimetype": "text/x-python",
   "name": "python",
   "nbconvert_exporter": "python",
   "pygments_lexer": "ipython3",
   "version": "3.10.6"
  }
 },
 "nbformat": 4,
 "nbformat_minor": 2
}
